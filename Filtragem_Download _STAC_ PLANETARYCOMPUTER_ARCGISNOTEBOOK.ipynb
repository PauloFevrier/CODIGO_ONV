{
 "cells": [
  {
   "cell_type": "code",
   "execution_count": null,
   "metadata": {},
   "outputs": [],
   "source": [
    "%%time\n",
    "arcpy.env.parallelProcessingFactor = \"60%\"    #difinindo processamento paralelo para priorizar essa atividade\n",
    "import arcpy\n",
    "\n",
    "def copy_raster(in_raster, out_rasterdataset, pixel_type=\"16_BIT_UNSIGNED\", format=\"TIFF\"): #definir profundidade de cores  de acordo com profundidae podemos identificar mais ou menos cores ou valores do espectro\n",
    "    \n",
    "    \"\"\"\n",
    "    Função para copiar um raster usando arcpy.management.CopyRaster.\n",
    "\n",
    "    Parameters:\n",
    "    in_raster (str): Caminho do raster de entrada.\n",
    "    out_rasterdataset (str): Caminho do raster de saída.\n",
    "    pixel_type (str): Tipo de pixel (padrão é \"32_BIT_FLOAT\").\n",
    "    format (str): Formato de saída (padrão é \"COG\"). # COG cloud optmized GEOTIFF\n",
    "    \"\"\"\n",
    "    \n",
    "    try:\n",
    "        # Chama a ferramenta CopyRaster com os parâmetros fornecidos\n",
    "        arcpy.management.CopyRaster(\n",
    "            in_raster=in_raster,\n",
    "            out_rasterdataset=out_rasterdataset,\n",
    "            config_keyword=\"\",\n",
    "            background_value=None,\n",
    "            nodata_value=\"\",\n",
    "            onebit_to_eightbit=\"NONE\",\n",
    "            colormap_to_RGB=\"NONE\",\n",
    "            pixel_type=pixel_type,\n",
    "            scale_pixel_value=\"NONE\",\n",
    "            RGB_to_Colormap=\"NONE\",\n",
    "            format=format,\n",
    "            transform=\"NONE\",\n",
    "            process_as_multidimensional=\"CURRENT_SLICE\",\n",
    "            build_multidimensional_transpose=\"NO_TRANSPOSE\"\n",
    "        )\n",
    "        print(f\"Raster copiado com sucesso de {in_raster} para {out_rasterdataset}.\")\n",
    "    except Exception as e:\n",
    "        print(f\"Erro ao copiar o raster: {e}\")\n",
    "\n",
    "# Exemplo de uso da função\n"
   ]
  },
  {
   "cell_type": "code",
   "execution_count": null,
   "metadata": {},
   "outputs": [],
   "source": [
    "%%time\n",
    "import arcpy # importar  biblioteca arcpy"
   ]
  },
  {
   "cell_type": "code",
   "execution_count": null,
   "metadata": {},
   "outputs": [],
   "source": [
    "%%time\n",
    "from arcpy import AIO  #\tUsando este objeto, você pode executar tarefas como copiar arquivos de um local para outro, renomear ou excluir uma pasta, além de operações relacionadas a arquivos. "
   ]
  },
  {
   "cell_type": "code",
   "execution_count": null,
   "metadata": {},
   "outputs": [],
   "source": [
    "import arcpy\n",
    "\n",
    "arcpy.env.workspace = \"D:\\cicatriz\\planetary_earth\"#  fazer uma busca pela tabela na coluna TILE Sentinel 2\n",
    "fc = \"pontos_s2_ERJ.shp\"\n",
    "\n",
    "try:\n",
    "    with arcpy.da.SearchCursor(fc, \"Name\") as cursor:\n",
    "        for row in cursor:\n",
    "            print(row)\n",
    "    print(\"Dados impressos com sucesso!\")\n",
    "except Exception as e:\n",
    "    print(f\"Erro: {e}\")"
   ]
  },
  {
   "cell_type": "code",
   "execution_count": null,
   "metadata": {},
   "outputs": [],
   "source": [
    "# busca individual por tile e orbita\n",
    "%%time\n",
    "tile = '23KPQ' # variaveis de filtragem por tile\n",
    "orbit= 95   # variaveis de filtragem por orbit\n",
    "cloud= 10   # variaveis de filtragem por cobertura de nuvem"
   ]
  },
  {
   "cell_type": "code",
   "execution_count": null,
   "metadata": {},
   "outputs": [],
   "source": [
    "%%time\n",
    "#Dicionario de busca\n",
    "query = {\n",
    "    \"collections\": [\"sentinel-2-l2a\"], # Sentinel-2 level 2A  (https://planetarycomputer.microsoft.com/dataset/sentinel-2-l2a)\n",
    "   \n",
    "    \"datetime\": \"2025-07-01/2025-07-30\", #  filtro por periodo de bsuca\n",
    "    \"query\" :{\"s2:mgrs_tile\":{\"eq\":tile}}, #filtrar por TILE\n",
    "    \"cloudq\": {\"eo:cloud_cover\": {\"lt\": 10}},# filtro por nuvem\n",
    "    \n",
    "    \"limit\": 20 # Maximo de resultados\n",
    "          }"
   ]
  },
  {
   "cell_type": "code",
   "execution_count": null,
   "metadata": {},
   "outputs": [],
   "source": [
    "%%time \n",
    "\n",
    "rc = arcpy.ia.RasterCollection.fromSTACAPI(stac_api=\"https://planetarycomputer.microsoft.com/api/stac/v1\", # vai connecatar api do planetarycomputer de um rastercollection para manipular  e filtrar os dados\n",
    "                                  query=query, # diconario anterior\n",
    "                                  attribute_dict={   #dicionario que mostra  os metadados das imagens no retornaram da cosulat do stac stac\n",
    "                                     \n",
    "                                      \"Name\":\"id\",\n",
    "                                      \"Cloud Cover\":\"eo:cloud_cover\",\n",
    "                                      \"StdTime\":\"datetime\",             \n",
    "                                      \"Spatial Reference\":\"proj:epsg\",\n",
    "                                      \"Orbita\": \"sat:relative_orbit\",\n",
    "                                      \"cod\":\"s2:mgrs_tile\"\n",
    "                    \n",
    "                                       \n",
    "                                    })"
   ]
  },
  {
   "cell_type": "code",
   "execution_count": null,
   "metadata": {},
   "outputs": [],
   "source": [
    "rcc=rc.filterByAttribute(\"Cloud Cover\", \"LESS_THAN\", 30) #filtrado o dados as informações da cloud"
   ]
  },
  {
   "cell_type": "code",
   "execution_count": null,
   "metadata": {},
   "outputs": [],
   "source": [
    "%%time\n",
    "# organiza a tabela  por data e orbita\n",
    "rcc=rcc.sort(\"StdTime\").sort(\"Orbita\")\n",
    "\n",
    "rcc # imprimindo a tabela com as info\n"
   ]
  },
  {
   "cell_type": "code",
   "execution_count": null,
   "metadata": {},
   "outputs": [],
   "source": [
    "%%time\n",
    "import os\n",
    "def compcic(item):\n",
    "    raster=item['Raster']\n",
    "    raster_obj=item['Raster']\n",
    "    Nm= item[\"Name\"][11:19]\n",
    "    Nm= str(Nm)\n",
    "    SRO=item[\"Name\"][:4]\n",
    "    SRO= str(SRO)\n",
    "    print(SRO)\n",
    "    print(Nm)\n",
    "    nbr_output_path= os.path.join(r\"D:\\ProjetosARCPRO\\MyProject.gdb\", f\"{SRO}{Nm}{tile}{orbit}\")\n",
    "    \n",
    "    SWIR, NIR, RED, RED_E=raster_obj.getRasterBands([\"B12\",\"B8A\",\"B4\",\"B8\"])\n",
    "    \n",
    "    rasters = [SWIR ,RED_E , RED, NIR]\n",
    "    \n",
    "    CB=arcpy.management.CompositeBands(\n",
    "           in_rasters=rasters,\n",
    "            out_raster=nbr_output_path\n",
    "        )\n",
    "    return {\"raster\":CB, \"Name\": item['Name'], \"StdTime\": item['StdTime'],\"Cloud Cover\": item['Cloud Cover'], \"COD\": item['cod'] ,\"Orb\":item [\"Orbita\"] }\n",
    "      "
   ]
  },
  {
   "cell_type": "code",
   "execution_count": null,
   "metadata": {},
   "outputs": [],
   "source": [
    "%%time\n",
    "with arcpy.EnvManager(parallelProcessingFactor=\"70%\"):  #transferencia do arquivo para um servido do INEA\n",
    "    comp = rcc.map(compcic) #aplicando função de cópia"
   ]
  }
 ],
 "metadata": {
  "language_info": {
   "name": "python"
  }
 },
 "nbformat": 4,
 "nbformat_minor": 2
}
